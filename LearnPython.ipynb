{
  "nbformat": 4,
  "nbformat_minor": 0,
  "metadata": {
    "colab": {
      "provenance": [],
      "authorship_tag": "ABX9TyNy/fqJRuTGGBk0otflQXdj",
      "include_colab_link": true
    },
    "kernelspec": {
      "name": "python3",
      "display_name": "Python 3"
    },
    "language_info": {
      "name": "python"
    }
  },
  "cells": [
    {
      "cell_type": "markdown",
      "metadata": {
        "id": "view-in-github",
        "colab_type": "text"
      },
      "source": [
        "<a href=\"https://colab.research.google.com/github/Shrad03/PythonNotes/blob/main/LearnPython.ipynb\" target=\"_parent\"><img src=\"https://colab.research.google.com/assets/colab-badge.svg\" alt=\"Open In Colab\"/></a>"
      ]
    },
    {
      "cell_type": "markdown",
      "source": [
        "#Hello\n",
        "##Hello\n",
        "###Hello\n",
        "*shraddha*\n",
        "**shraddha**\n"
      ],
      "metadata": {
        "id": "-_WtOjJkUpM8"
      }
    },
    {
      "cell_type": "markdown",
      "source": [
        "Interpreter- it changes your code into binary, line by line - R,Python,Javascript, can easily be debugged\n",
        "compiler- runs all the code at once- C,C++,Java, Difficult to debug"
      ],
      "metadata": {
        "id": "sHhGXe66Vhck"
      }
    },
    {
      "cell_type": "markdown",
      "source": [
        "### First program"
      ],
      "metadata": {
        "id": "mjrP1rCBVphf"
      }
    },
    {
      "cell_type": "code",
      "source": [
        "# variable \"\", ''\n",
        "name = input('hi')\n",
        "print('My name is: ', name)"
      ],
      "metadata": {
        "colab": {
          "base_uri": "https://localhost:8080/"
        },
        "id": "MS40etbKVw7L",
        "outputId": "e72b00e1-96f8-4728-cfb9-190b953bf8f0"
      },
      "execution_count": 6,
      "outputs": [
        {
          "output_type": "stream",
          "name": "stdout",
          "text": [
            "Keith\n",
            "My name is:  Keith\n"
          ]
        }
      ]
    },
    {
      "cell_type": "code",
      "source": [
        "help(print)"
      ],
      "metadata": {
        "colab": {
          "base_uri": "https://localhost:8080/"
        },
        "id": "3AMvf60pWRlL",
        "outputId": "c91de17a-75c8-46a5-9649-b4e14bed0fa1"
      },
      "execution_count": 3,
      "outputs": [
        {
          "output_type": "stream",
          "name": "stdout",
          "text": [
            "Help on built-in function print in module builtins:\n",
            "\n",
            "print(...)\n",
            "    print(value, ..., sep=' ', end='\\n', file=sys.stdout, flush=False)\n",
            "    \n",
            "    Prints the values to a stream, or to sys.stdout by default.\n",
            "    Optional keyword arguments:\n",
            "    file:  a file-like object (stream); defaults to the current sys.stdout.\n",
            "    sep:   string inserted between values, default a space.\n",
            "    end:   string appended after the last value, default a newline.\n",
            "    flush: whether to forcibly flush the stream.\n",
            "\n"
          ]
        }
      ]
    },
    {
      "cell_type": "markdown",
      "source": [
        "### Fundamental Data Types"
      ],
      "metadata": {
        "id": "34yzebLaYyg9"
      }
    },
    {
      "cell_type": "code",
      "source": [
        "int\n",
        "float\n",
        "bool\n",
        "str\n",
        "list\n",
        "tuple\n",
        "set\n",
        "dict"
      ],
      "metadata": {
        "colab": {
          "base_uri": "https://localhost:8080/"
        },
        "id": "NXd14r7AX8db",
        "outputId": "2da0b80a-69f2-4fd6-8452-1dd8c46bdc9f"
      },
      "execution_count": 7,
      "outputs": [
        {
          "output_type": "execute_result",
          "data": {
            "text/plain": [
              "dict"
            ]
          },
          "metadata": {},
          "execution_count": 7
        }
      ]
    },
    {
      "cell_type": "code",
      "source": [
        "int\n",
        "float\n",
        "bool\n",
        "str\n",
        "list\n",
        "tuple\n",
        "print(set)\n",
        "print(dict)"
      ],
      "metadata": {
        "colab": {
          "base_uri": "https://localhost:8080/"
        },
        "id": "0OMTCGWWaQoG",
        "outputId": "c3b639a1-083e-4a3e-b65b-e03f67bcf2fa"
      },
      "execution_count": 12,
      "outputs": [
        {
          "output_type": "stream",
          "name": "stdout",
          "text": [
            "<class 'set'>\n",
            "<class 'dict'>\n"
          ]
        }
      ]
    },
    {
      "cell_type": "markdown",
      "source": [
        "\n",
        "\n",
        "### specialized datatypes"
      ],
      "metadata": {
        "id": "N6YyNzk0aYIO"
      }
    },
    {
      "cell_type": "markdown",
      "source": [
        "None"
      ],
      "metadata": {
        "id": "i9-5YHKvaXLj"
      }
    },
    {
      "cell_type": "markdown",
      "source": [
        "### Int & float\n"
      ],
      "metadata": {
        "id": "kUf3K0N6bn1B"
      }
    },
    {
      "cell_type": "code",
      "source": [
        "print(type(2+4))\n",
        "print(type(2-4))\n",
        "print(type(2*4))\n",
        "print(type(2/4))\n",
        "print(type(2%4)) #remainder 2 divided by 4\n",
        "print(2**4) #2 power 4\n",
        "print(2//4) #2 divided by 4 is equal to 0.5, truncates to 0.\n",
        "print(round(2/3)) #round off 2 divided by 3 is equal to 0.6, rounds off to 1\n",
        "print(abs(2-4)) #modulus of |2-4|=|-2|=2"
      ],
      "metadata": {
        "colab": {
          "base_uri": "https://localhost:8080/"
        },
        "id": "Phexfwp1bKPC",
        "outputId": "167f3191-c4d3-42a9-c01a-59606b825580"
      },
      "execution_count": 14,
      "outputs": [
        {
          "output_type": "stream",
          "name": "stdout",
          "text": [
            "<class 'int'>\n",
            "<class 'int'>\n",
            "<class 'int'>\n",
            "<class 'float'>\n",
            "<class 'int'>\n",
            "16\n",
            "0\n",
            "1\n",
            "2\n"
          ]
        }
      ]
    },
    {
      "cell_type": "markdown",
      "source": [
        "### Operator Precedence"
      ],
      "metadata": {
        "id": "tUJRQMwQeKbO"
      }
    },
    {
      "cell_type": "code",
      "source": [
        "print((20-3) + 2 ** 2)"
      ],
      "metadata": {
        "colab": {
          "base_uri": "https://localhost:8080/"
        },
        "id": "e-0FqWMYdZEF",
        "outputId": "71dcfd84-981d-41a1-c72d-26dc90b1e8ce"
      },
      "execution_count": 18,
      "outputs": [
        {
          "output_type": "stream",
          "name": "stdout",
          "text": [
            "21\n"
          ]
        }
      ]
    },
    {
      "cell_type": "markdown",
      "source": [
        "### Other Data types"
      ],
      "metadata": {
        "id": "DI4yvn0Perra"
      }
    },
    {
      "cell_type": "code",
      "source": [
        "print(complex(2,4))\n",
        "print(bin(5))\n",
        "print(int('0b101', 2))"
      ],
      "metadata": {
        "colab": {
          "base_uri": "https://localhost:8080/"
        },
        "id": "9q9cdIMueqg9",
        "outputId": "b54f12c7-8001-4599-ef07-3d725395c8ff"
      },
      "execution_count": 24,
      "outputs": [
        {
          "output_type": "stream",
          "name": "stdout",
          "text": [
            "(2+4j)\n",
            "0b101\n",
            "5\n"
          ]
        }
      ]
    },
    {
      "cell_type": "code",
      "source": [
        "help(bin)"
      ],
      "metadata": {
        "colab": {
          "base_uri": "https://localhost:8080/"
        },
        "id": "F9IVNr3XfKXH",
        "outputId": "08df87d2-475f-4797-90dd-88f81edbb6f4"
      },
      "execution_count": 25,
      "outputs": [
        {
          "output_type": "stream",
          "name": "stdout",
          "text": [
            "Help on built-in function bin in module builtins:\n",
            "\n",
            "bin(number, /)\n",
            "    Return the binary representation of an integer.\n",
            "    \n",
            "    >>> bin(2796202)\n",
            "    '0b1010101010101010101010'\n",
            "\n"
          ]
        }
      ]
    },
    {
      "cell_type": "markdown",
      "source": [
        "### Variables"
      ],
      "metadata": {
        "id": "VVdBxexe_CzM"
      }
    },
    {
      "cell_type": "code",
      "source": [
        "var = 192\n",
        "print(\"I'm Batman \" + str(var))\n",
        "\n",
        "\n",
        "var1, var2, var3 = 1, 2, 3\n",
        "print(var1 + var2 + var3)\n"
      ],
      "metadata": {
        "colab": {
          "base_uri": "https://localhost:8080/"
        },
        "id": "XAzg-T0pgHE6",
        "outputId": "7a538084-1fb6-40b7-ccd4-c9480f5dca24"
      },
      "execution_count": 6,
      "outputs": [
        {
          "output_type": "stream",
          "name": "stdout",
          "text": [
            "I'm Batman 192\n",
            "6\n"
          ]
        }
      ]
    },
    {
      "cell_type": "markdown",
      "source": [
        "### Expressions and statements"
      ],
      "metadata": {
        "id": "PrfPCE6O_9zY"
      }
    },
    {
      "cell_type": "code",
      "source": [
        "iq = 192 #expression\n",
        "print(iq) #statement\n",
        "\n",
        "#augmented assignment operator\n",
        "someValue = 5\n",
        "someValue += 2  # someValue = someValue + 2\n",
        "print(someValue)\n"
      ],
      "metadata": {
        "colab": {
          "base_uri": "https://localhost:8080/"
        },
        "id": "U19e48DeAEpT",
        "outputId": "756b2e9a-19b1-44dc-d94c-2ad1a5566c03"
      },
      "execution_count": 7,
      "outputs": [
        {
          "output_type": "stream",
          "name": "stdout",
          "text": [
            "192\n",
            "7\n"
          ]
        }
      ]
    },
    {
      "cell_type": "markdown",
      "source": [
        "### Strings"
      ],
      "metadata": {
        "id": "MbV0DeliBG8V"
      }
    },
    {
      "cell_type": "code",
      "source": [
        "print(type('''I'm Batman'''))  #Three ways to quote a string -> '', \"\", ''' '''\n",
        "print(type(\"I'm Batman\"))\n",
        "\n",
        "#string concatenation\n",
        "firstName = 'Shraddha'\n",
        "lastName = 'Kurra'\n",
        "print(firstName + \" \" + lastName)\n",
        "print('Hello' + 'Everyone')\n",
        "print('My IQ is '+ str(192))\n",
        "\n",
        "print(type(str(192)))\n",
        "print(type(int(str(192)))) # Type Conversion"
      ],
      "metadata": {
        "colab": {
          "base_uri": "https://localhost:8080/"
        },
        "id": "9YzSz5C3BJWn",
        "outputId": "915b809a-96a2-4dd4-99be-296337cab061"
      },
      "execution_count": 8,
      "outputs": [
        {
          "output_type": "stream",
          "name": "stdout",
          "text": [
            "<class 'str'>\n",
            "<class 'str'>\n",
            "Shraddha Kurra\n",
            "HelloEveryone\n",
            "My IQ is 192\n",
            "<class 'str'>\n",
            "<class 'int'>\n"
          ]
        }
      ]
    },
    {
      "cell_type": "markdown",
      "source": [
        "###Escape sequence"
      ],
      "metadata": {
        "id": "-IqwyIgnDE6i"
      }
    },
    {
      "cell_type": "code",
      "source": [
        "#weather = 'It's kinda sunny' #wrong way because the code confuses with the single apostrophe bw t&s and apostrophe before I\n",
        "weather = \"It's kinda sunny\" #correct way. You can even use triple single quotes\n",
        "\n",
        "#or\n",
        "weather = 'It\\'s kinda sunny'\n",
        "print(weather)\n",
        "\n",
        "#formulated strings\n",
        "name = 'John'\n",
        "age = 55\n",
        "print('hi ' + name + ', You are ' + str(age) + ' years old')\n",
        "print(f'hi {name}, You are {age} years old') #f string\n",
        "print('hi {}, You are {} years old'.format(name, age))\n",
        "print('hi {}, You are {} years old'.format('John', 55)) #if you don't assign it before you can use this and assign the variables directly in this format"
      ],
      "metadata": {
        "colab": {
          "base_uri": "https://localhost:8080/"
        },
        "id": "EfVYpuSzDIMP",
        "outputId": "f317b3b4-e006-464d-ef79-cfd7e35a5049"
      },
      "execution_count": 20,
      "outputs": [
        {
          "output_type": "stream",
          "name": "stdout",
          "text": [
            "It's kinda sunny\n",
            "hi John, You are 55 years old\n",
            "hi John, You are 55 years old\n",
            "hi John, You are 55 years old\n",
            "hi John, You are 55 years old\n"
          ]
        }
      ]
    },
    {
      "cell_type": "markdown",
      "source": [
        "###String Indexes"
      ],
      "metadata": {
        "id": "lUKpQ90mGbIb"
      }
    },
    {
      "cell_type": "code",
      "source": [
        "name = 'kurra'\n",
        "print(name[0])\n",
        "#name[5] will throw an error\n",
        "# [start:stop:stepover]\n",
        "print(name[0:3:2])\n",
        "print(name[0:5:2])\n",
        "print(name[1:])\n",
        "print(name[::1])\n",
        "print(name[-1:-6:-1])\n",
        "print(name[::-1])\n",
        "\n",
        "#this is called string slicing"
      ],
      "metadata": {
        "colab": {
          "base_uri": "https://localhost:8080/"
        },
        "id": "Z0vBDwWmGfZd",
        "outputId": "28275ef1-67a1-4fff-d0c5-a82e4d09b846"
      },
      "execution_count": 44,
      "outputs": [
        {
          "output_type": "stream",
          "name": "stdout",
          "text": [
            "k\n",
            "kr\n",
            "kra\n",
            "urra\n",
            "kurra\n",
            "arruk\n",
            "arruk\n"
          ]
        }
      ]
    },
    {
      "cell_type": "code",
      "source": [
        "#immutability\n",
        "#name[0] = 'I' throws an error, you cannot reassign a value to a part of a string\n",
        "name = name + ' K'\n",
        "name"
      ],
      "metadata": {
        "colab": {
          "base_uri": "https://localhost:8080/",
          "height": 35
        },
        "id": "zo1n2GGRJtaV",
        "outputId": "245da4a5-06cd-4d93-bd47-892a94351ef3"
      },
      "execution_count": 45,
      "outputs": [
        {
          "output_type": "execute_result",
          "data": {
            "text/plain": [
              "'kurra K'"
            ],
            "application/vnd.google.colaboratory.intrinsic+json": {
              "type": "string"
            }
          },
          "metadata": {},
          "execution_count": 45
        }
      ]
    },
    {
      "cell_type": "markdown",
      "source": [
        "###Built-in-Functions"
      ],
      "metadata": {
        "id": "kfjKHEHdKs4w"
      }
    },
    {
      "cell_type": "code",
      "source": [
        "#Examples\n",
        "str()\n",
        "int()\n",
        "abs(0)\n",
        "len('char')\n",
        "print(name[0:len(name)]) #len(name) = number of character (incl spaces) or elements\n",
        "print(name.capitalize())\n",
        "print(name.upper())\n",
        "print(name.find('K'))\n",
        "print(name.replace('urra K', 'athi R'))"
      ],
      "metadata": {
        "colab": {
          "base_uri": "https://localhost:8080/"
        },
        "id": "0bHscnZ4Kw7v",
        "outputId": "6a023db7-15d4-432a-dc0e-89fa3d2772a7"
      },
      "execution_count": 51,
      "outputs": [
        {
          "output_type": "stream",
          "name": "stdout",
          "text": [
            "kurra K\n",
            "Kurra k\n",
            "KURRA K\n",
            "6\n",
            "kathi R\n"
          ]
        }
      ]
    },
    {
      "cell_type": "markdown",
      "source": [
        "###Booleans"
      ],
      "metadata": {
        "id": "pSCyg_e6NkJW"
      }
    },
    {
      "cell_type": "code",
      "source": [
        "False\n",
        "True\n",
        "print(False)\n",
        "print(True)"
      ],
      "metadata": {
        "colab": {
          "base_uri": "https://localhost:8080/"
        },
        "id": "OpHQU5ypNmbC",
        "outputId": "f8653162-4014-44f7-9a9e-e230314bdf3a"
      },
      "execution_count": 60,
      "outputs": [
        {
          "output_type": "stream",
          "name": "stdout",
          "text": [
            "False\n",
            "True\n"
          ]
        }
      ]
    },
    {
      "cell_type": "code",
      "source": [
        "print(bool(0))\n",
        "print(bool(1))"
      ],
      "metadata": {
        "colab": {
          "base_uri": "https://localhost:8080/"
        },
        "id": "UG9tpz31NoV8",
        "outputId": "de83a3c4-57e6-48f0-9867-aa52acdcacee"
      },
      "execution_count": 61,
      "outputs": [
        {
          "output_type": "stream",
          "name": "stdout",
          "text": [
            "False\n",
            "True\n"
          ]
        }
      ]
    },
    {
      "cell_type": "markdown",
      "source": [
        "###Type conversion"
      ],
      "metadata": {
        "id": "SV1HBzt9OVqn"
      }
    },
    {
      "cell_type": "code",
      "source": [
        "name = 'Shraddha'\n",
        "age = 50\n",
        "relationship = 'single'\n",
        "\n",
        "relationship = 'complicated'\n",
        "relationship\n",
        "\n"
      ],
      "metadata": {
        "colab": {
          "base_uri": "https://localhost:8080/",
          "height": 35
        },
        "id": "WXEotDLkOYCv",
        "outputId": "f115c03a-fbcb-4da8-d959-3ab0ae23e979"
      },
      "execution_count": 72,
      "outputs": [
        {
          "output_type": "execute_result",
          "data": {
            "text/plain": [
              "'complicated'"
            ],
            "application/vnd.google.colaboratory.intrinsic+json": {
              "type": "string"
            }
          },
          "metadata": {},
          "execution_count": 72
        }
      ]
    },
    {
      "cell_type": "code",
      "source": [
        "birthYear = input('What year you were born? ')\n",
        "birthYear = int(birthYear)\n",
        "\n",
        "age = 2023 - birthYear\n",
        "print(f'You are {age} years old' )"
      ],
      "metadata": {
        "colab": {
          "base_uri": "https://localhost:8080/"
        },
        "id": "PwC0gLzOQMeL",
        "outputId": "310be9ab-5f63-4e12-c4b7-1cf95801d954"
      },
      "execution_count": 76,
      "outputs": [
        {
          "output_type": "stream",
          "name": "stdout",
          "text": [
            "What year you were born? 1999\n",
            "You are 24 years old\n"
          ]
        }
      ]
    },
    {
      "cell_type": "markdown",
      "source": [
        "###Password checker excercise"
      ],
      "metadata": {
        "id": "lLO3Oo5BQuNe"
      }
    },
    {
      "cell_type": "code",
      "source": [
        "username = input('username: ')\n",
        "password = input('password: ')\n",
        "\n",
        "print(username)\n",
        "print(password.replace(password[0:len(password)], str('*' * len(password))) + 'contains ' + str(len(password)) + ' characters')"
      ],
      "metadata": {
        "colab": {
          "base_uri": "https://localhost:8080/"
        },
        "id": "D-zOVO1tQyMT",
        "outputId": "0b9f09db-dae2-4396-fcaf-b23377fe3da9"
      },
      "execution_count": 79,
      "outputs": [
        {
          "output_type": "stream",
          "name": "stdout",
          "text": [
            "username: shraddha99\n",
            "password: shraddha@123\n",
            "shraddha99\n",
            "************contains 12 characters\n"
          ]
        }
      ]
    }
  ]
}